{
 "cells": [
  {
   "cell_type": "code",
   "execution_count": 5,
   "id": "7e833348-f43b-496c-a994-1fd47cfffee7",
   "metadata": {},
   "outputs": [],
   "source": [
    "import string as st\n",
    "import itertools as it \n",
    "import networkx as nx\n",
    "import matplotlib.pyplot as plt"
   ]
  },
  {
   "cell_type": "code",
   "execution_count": 6,
   "id": "9b59ec24-5be5-4b97-bd5b-16a3be6ca23a",
   "metadata": {},
   "outputs": [],
   "source": [
    "EDCN = 3\n",
    "\n",
    "ADJACENCY_LIST = [[\"b\"],[\"a\",\"c\"],[\"b\",\"d\"],[\"c\",\"e\"],[\"d\"]]\n",
    "possible_boards_list = []\n",
    "\n",
    "legal_boards = []\n",
    "legal_boards_list = []\n",
    "\n",
    "playable_boards = []\n",
    "unplayable_boards = []\n",
    "\n",
    "playable_boards_list = []\n",
    "unplayable_boards_list = []"
   ]
  },
  {
   "cell_type": "code",
   "execution_count": 7,
   "id": "8c56f3d9-35dc-40d8-8e83-a80560803369",
   "metadata": {},
   "outputs": [],
   "source": [
    "COLORS = []\n",
    "MOVES = []\n",
    "COLORS.append(-1)\n",
    "\n",
    "#  Adding all the colors based off of the EDCN starting at 1\n",
    "for i in range(1,EDCN+1):\n",
    "    COLORS.append(i)\n",
    "    MOVES.append(i)"
   ]
  },
  {
   "cell_type": "code",
   "execution_count": 8,
   "id": "31ea18c6-d4e5-447b-8eb2-89f256f4a732",
   "metadata": {},
   "outputs": [],
   "source": [
    "#  Makes the blank boards    \n",
    "def possible_boards(board): \n",
    "    inter_board = {}\n",
    "    vertices = []\n",
    "    \n",
    "    for i, j in zip(board, st.ascii_letters):\n",
    "        inter_board[j] = [0, i]\n",
    "        vertices.append(j)\n",
    "    \n",
    "    return inter_board "
   ]
  },
  {
   "cell_type": "code",
   "execution_count": 9,
   "id": "b867076d-5751-4fe2-bfae-f7bf6faa0bc3",
   "metadata": {},
   "outputs": [],
   "source": [
    "#  Generate the possible colorings for every board \n",
    "def make_boards(adj_list, colors):               \n",
    "    global possible_boards_list\n",
    "\n",
    "    #  Create all of the permutations of the board colorings\n",
    "    for possible_coloring in it.product(colors, repeat=len(adj_list)):\n",
    "        board = possible_boards(ADJACENCY_LIST)\n",
    "        for index, vertex in enumerate(board):\n",
    "            board[vertex][0] = possible_coloring[index]\n",
    "    \n",
    "        possible_boards_list.append(board)\n",
    "    \n",
    "    return "
   ]
  },
  {
   "cell_type": "code",
   "execution_count": 10,
   "id": "c78622ac-45ed-4c6d-b0c0-fee1bf0da00b",
   "metadata": {},
   "outputs": [],
   "source": [
    "#  Remove all boards with illegal edge colorings\n",
    "def no_repeat_edges(edges):           \n",
    "    no_repeats = True\n",
    "    \n",
    "    for side in edges:  \n",
    "        #  Allow for the empty board\n",
    "        if side == [-1,-1] and (edges.count(side) == len(edges)):\n",
    "            return True \n",
    "\n",
    "        #  Edges only appearing once are legal \n",
    "        elif edges.count(side) == 1:\n",
    "            continue\n",
    "\n",
    "        elif edges.count(side) > 1:\n",
    "            #  Allow for repeated colorings if one of the vertices is uncolored\n",
    "            if -1 in side: \n",
    "                continue  \n",
    "\n",
    "            #  Allow for a double edge if it is a color next to itself\n",
    "            elif side[0] == side[-1]: \n",
    "                if edges.count(side) <= 2:\n",
    "                    continue\n",
    "                else:               \n",
    "                    return False \n",
    "\n",
    "            #  Return False for any other case\n",
    "            else:\n",
    "                return False  \n",
    "\n",
    "    # Returns True for all boards without a repeated edge\n",
    "    if no_repeats == True:   \n",
    "        return True"
   ]
  },
  {
   "cell_type": "code",
   "execution_count": 11,
   "id": "54c717f3-cc9e-430a-983b-6c8165a7ff3a",
   "metadata": {},
   "outputs": [],
   "source": [
    "#  Determine if a board is legal with the repeat edges function \n",
    "def is_safe(board): \n",
    "    edges = []\n",
    "    vertices = []\n",
    "\n",
    "    #  Create the edge list by iterating through the vertices and pairing the vertex color with the color of the adjacent vertices\n",
    "    for vertex in board:\n",
    "        vertices.append(board[vertex][0])\n",
    "        for i in range(len(board[vertex][1])):\n",
    "            edges.append([board[vertex][0], board[board[vertex][1][i]][0]])\n",
    "            \n",
    "    #  Will return true if the board is legal\n",
    "    if no_repeat_edges(edges):\n",
    "        return True \n",
    "\n",
    "    return False"
   ]
  },
  {
   "cell_type": "code",
   "execution_count": 12,
   "id": "719d4a6d-d447-491b-ad92-95f7e1736d2f",
   "metadata": {},
   "outputs": [],
   "source": [
    "#  Return True for all boards which are PLAYABLE\n",
    "def terminating_board(board, color_list):        \n",
    "    value = board.values()\n",
    "    board_color = []\n",
    "    \n",
    "    for entry in value:\n",
    "        board_color.append(entry[0])\n",
    "\n",
    "    #  All fully colored boards are terminating\n",
    "    if -1 not in board_color:\n",
    "        return False\n",
    "\n",
    "    #  If a board is not fully colored, check the uncolored vertices to see if they are markable\n",
    "    for vertex in board:  \n",
    "        if board[vertex][0] != -1:\n",
    "            continue\n",
    "        else:\n",
    "            for color in color_list:   \n",
    "                board[vertex][0] = color \n",
    "                if is_safe(board):\n",
    "                    board[vertex][0] = -1 \n",
    "                    return True   \n",
    "                else:\n",
    "                    board[vertex][0] = -1\n",
    "                    continue\n",
    "\n",
    "    #  Return False for all terminating boards\n",
    "    return False"
   ]
  },
  {
   "cell_type": "code",
   "execution_count": 13,
   "id": "f287d202-9c6c-42a1-a593-7d29b344c5d8",
   "metadata": {},
   "outputs": [],
   "source": [
    "#  Will \"play\" the whole game and make the game states\n",
    "def play_game(adj_list, colors):                 \n",
    "    global possible_boards_list\n",
    "    global vertex_list\n",
    "    global legal_boards\n",
    "    global unplayable_boards\n",
    "    global playable_boards\n",
    "    global legal_boards_list\n",
    "    global playable_boards_list \n",
    "    global unplayable_boards_list\n",
    "    global MOVES\n",
    "    \n",
    "    make_boards(adj_list, colors)  \n",
    "    \n",
    "    for board in possible_boards_list:\n",
    "        if is_safe(board):  \n",
    "            legal_boards.append(board)\n",
    "            \n",
    "    for board in legal_boards:    \n",
    "        if terminating_board(board, MOVES):\n",
    "            playable_boards.append(board)\n",
    "        else:\n",
    "            unplayable_boards.append(board)\n",
    "\n",
    "    #  Changing all the dictionaries into lists of vertex colors \n",
    "    for board in playable_boards: \n",
    "        temp_board = []\n",
    "        for vertex in board:\n",
    "            temp_board.append(board[vertex][0])\n",
    "            \n",
    "        playable_boards_list.append(temp_board)\n",
    "    \n",
    "    for board in unplayable_boards:\n",
    "        temp_board = []\n",
    "        for vertex in board:\n",
    "            temp_board.append(board[vertex][0])\n",
    "        \n",
    "        unplayable_boards_list.append(temp_board)\n",
    "        \n",
    "    legal_boards_list.extend(playable_boards_list)\n",
    "    legal_boards_list.extend(unplayable_boards_list)\n",
    "    \n",
    "    return"
   ]
  },
  {
   "cell_type": "code",
   "execution_count": 14,
   "id": "4819c5d0-c382-4388-81cc-29d2a3d51141",
   "metadata": {},
   "outputs": [],
   "source": [
    "#  Call the function \n",
    "play_game(ADJACENCY_LIST, COLORS)"
   ]
  },
  {
   "cell_type": "code",
   "execution_count": 15,
   "id": "8cdd22cb-5f94-4b2b-bb73-d5c3e7450155",
   "metadata": {},
   "outputs": [],
   "source": [
    "empty_board = []\n",
    "for i in range(len(legal_boards_list[0])):\n",
    "    empty_board.append(-1)\n",
    "\n",
    "#  Initialize the DiGraph\n",
    "digraph = nx.DiGraph()\n",
    "board_moves = [[]] \n",
    "\n",
    "for i in range(len(ADJACENCY_LIST)):\n",
    "    board_moves.append([])\n",
    "\n",
    "#  Sort the board by how many vertices have been colored i.e. moves\n",
    "for board in legal_boards_list:  \n",
    "    vertex_colors = 0\n",
    "    for vertex in board:\n",
    "        if vertex != -1:\n",
    "            vertex_colors += 1 \n",
    "    \n",
    "    board_moves[vertex_colors].append(board)\n",
    "    \n",
    "    #  Add boards to digraph and indicate whether they are in an end position \"p\"\n",
    "    if board in playable_boards_list:\n",
    "        digraph.add_node(tuple(board), position = \"\", layer = vertex_colors)\n",
    "    else: \n",
    "        digraph.add_node(tuple(board), position = \"p\", layer = vertex_colors)"
   ]
  },
  {
   "cell_type": "code",
   "execution_count": 16,
   "id": "7e1fb358-c95e-42ff-a39a-8a0d10f1274f",
   "metadata": {},
   "outputs": [],
   "source": [
    "for i in range(len(legal_boards_list[0])):\n",
    "    for board in board_moves[i]:\n",
    "    \n",
    "        #  Make edges in the digraph based on the next move \n",
    "        if digraph.nodes[tuple(board)][\"position\"] == \"\":\n",
    "\n",
    "            #  Check possible moves from a board to another in the next layer\n",
    "            for i in range(len(board)):\n",
    "                if board[i] == -1:\n",
    "                    game_state = list(board)\n",
    "\n",
    "                    for move in MOVES:\n",
    "                        game_state[i] = move\n",
    "                        \n",
    "                        #  Make all of the edges in the DiGraph\n",
    "                        if tuple(game_state) in digraph.nodes:\n",
    "                            digraph.add_edge(tuple(board), tuple(game_state))"
   ]
  },
  {
   "cell_type": "code",
   "execution_count": 17,
   "id": "3a46a632-cffe-44ae-a899-d3512acb065f",
   "metadata": {},
   "outputs": [],
   "source": [
    "#  Label nodes in the digraph as n and p positions starting at the end of the game\n",
    "for i in range(len(legal_boards_list[0])+1):\n",
    "    for board in board_moves[len(board_moves)-i-1]:\n",
    "        if (digraph.in_degree(tuple(board)) == 0) and (i != len(board_moves)-1):\n",
    "            turns = 0 \n",
    "            for entry in board:\n",
    "                if entry != 0:\n",
    "                    turns += 1\n",
    "            digraph.remove_node(tuple(board))\n",
    "        \n",
    "        #  A P-position if in an end state\n",
    "        elif len(digraph.edges(tuple(board))) == 0:\n",
    "            digraph.nodes[tuple(board)][\"position\"] = \"p\"\n",
    "        \n",
    "        else:\n",
    "            for edge in digraph.edges(tuple(board)):\n",
    "                if digraph.nodes[edge[1]][\"position\"] == \"p\":\n",
    "                    digraph.nodes[tuple(board)][\"position\"] = \"n\"\n",
    "\n",
    "            #P-position if only directed to N-positions\n",
    "            if digraph.nodes[tuple(board)][\"position\"] == \"\":\n",
    "                digraph.nodes[tuple(board)][\"position\"] = \"p\" "
   ]
  },
  {
   "cell_type": "code",
   "execution_count": 18,
   "id": "9496e4f4-d0df-4b19-a731-b6a38595a355",
   "metadata": {},
   "outputs": [
    {
     "name": "stdout",
     "output_type": "stream",
     "text": [
      "Player 1 has a winning strategy\n"
     ]
    }
   ],
   "source": [
    "#  Determine which player has a winning strategy\n",
    "if digraph.nodes[tuple(empty_board)][\"position\"] == \"n\":\n",
    "    print(\"Player 1 has a winning strategy\")\n",
    "else:\n",
    "    print(\"Player 2 has a winning strategy\")"
   ]
  },
  {
   "cell_type": "code",
   "execution_count": 19,
   "id": "dd8b718b-0bd7-4a64-bf0c-85616366d1f0",
   "metadata": {},
   "outputs": [
    {
     "name": "stdout",
     "output_type": "stream",
     "text": [
      "((-1, 2, 1, -1, -1), (2, 2, 1, -1, -1)) \t n\n",
      "((-1, 2, 1, -1, -1), (3, 2, 1, -1, -1)) \t n\n",
      "((-1, 2, 1, -1, -1), (-1, 2, 1, 1, -1)) \t p\n",
      "((-1, 2, 1, -1, -1), (-1, 2, 1, 3, -1)) \t p\n",
      "((-1, 2, 1, -1, -1), (-1, 2, 1, -1, 1)) \t n\n",
      "((-1, 2, 1, -1, -1), (-1, 2, 1, -1, 2)) \t n\n",
      "((-1, 2, 1, -1, -1), (-1, 2, 1, -1, 3)) \t p\n"
     ]
    }
   ],
   "source": [
    "#  Print possible moves based on board\n",
    "for edge in digraph.edges((-1, 2, 1, -1, -1)):\n",
    "    print(edge, \"\\t\", digraph.nodes[edge[1]][\"position\"])"
   ]
  },
  {
   "cell_type": "code",
   "execution_count": 20,
   "id": "ba51f0d8-b3ff-45f3-9c39-8a7fb7024e9c",
   "metadata": {},
   "outputs": [],
   "source": [
    "#Uncomment the following code to download an image of directed graph\n",
    "\n",
    "#drawing = nx.multipartite_layout(digraph, subset_key=\"layer\")\n",
    "#color_map = [(255/255, 184/255, 28/255) if digraph.nodes[node][\"position\"] == \"p\" else (65/255, 65/255, 65/255) for node in digraph] \n",
    "#nx.draw_networkx(digraph, pos=drawing, node_size = 50, with_labels=False, node_color= color_map)\n",
    "\n",
    "#plt.savefig(\"P_5digraph.png\")"
   ]
  }
 ],
 "metadata": {
  "kernelspec": {
   "display_name": "anaconda-2024.02-py310",
   "language": "python",
   "name": "conda-env-anaconda-2024.02-py310-py"
  },
  "language_info": {
   "codemirror_mode": {
    "name": "ipython",
    "version": 3
   },
   "file_extension": ".py",
   "mimetype": "text/x-python",
   "name": "python",
   "nbconvert_exporter": "python",
   "pygments_lexer": "ipython3",
   "version": "3.10.14"
  }
 },
 "nbformat": 4,
 "nbformat_minor": 5
}
